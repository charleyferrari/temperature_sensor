{
 "cells": [
  {
   "cell_type": "markdown",
   "metadata": {},
   "source": [
    "### Using weather API\n",
    "\n",
    "note: temp in kelvin\n"
   ]
  },
  {
   "cell_type": "code",
   "execution_count": null,
   "metadata": {},
   "outputs": [],
   "source": [
    "import requests, json \n",
    "import numpy as np"
   ]
  },
  {
   "cell_type": "code",
   "execution_count": null,
   "metadata": {},
   "outputs": [],
   "source": [
    "api_key = '2a3cbd9034962722e522419a7305997c'"
   ]
  },
  {
   "cell_type": "code",
   "execution_count": null,
   "metadata": {},
   "outputs": [],
   "source": [
    "base_url = \"http://api.openweathermap.org/data/2.5/weather?\"\n",
    "city = 'New York City'\n",
    "complete_url = base_url + \"appid=\" + api_key + \"&q=\" + city "
   ]
  },
  {
   "cell_type": "code",
   "execution_count": null,
   "metadata": {},
   "outputs": [],
   "source": [
    "complete_url"
   ]
  },
  {
   "cell_type": "code",
   "execution_count": null,
   "metadata": {},
   "outputs": [],
   "source": [
    "resp = requests.get(complete_url)"
   ]
  },
  {
   "cell_type": "code",
   "execution_count": null,
   "metadata": {},
   "outputs": [],
   "source": [
    "current_temp_k = resp.json()['main']['temp']\n",
    "current_temp_f = np.round((current_temp_k - 273.15) * (9/5) + 32, 2)\n",
    "current_humidity = resp.json()['main']['humidity']"
   ]
  },
  {
   "cell_type": "markdown",
   "metadata": {},
   "source": [
    "### Reading Temp from Sensor"
   ]
  },
  {
   "cell_type": "code",
   "execution_count": null,
   "metadata": {},
   "outputs": [],
   "source": [
    "import adafruit_dht\n",
    "from board import D4\n",
    "dht_device = adafruit_dht.DHT22(D4)\n",
    "\n",
    "def get_temp_hum(dht_device):\n",
    "    count = 0\n",
    "    while True:\n",
    "        try:\n",
    "            return {\n",
    "                'temperature': dht_device.temperature,\n",
    "                'humidity': dht_device.humidity\n",
    "            }\n",
    "        except:\n",
    "            count += 1\n",
    "            if count == 1000:\n",
    "                return {\n",
    "                    'temperature': 0,\n",
    "                    'humidity': 0\n",
    "                }\n",
    "            pass"
   ]
  },
  {
   "cell_type": "markdown",
   "metadata": {},
   "source": [
    "### Using gspread"
   ]
  },
  {
   "cell_type": "code",
   "execution_count": null,
   "metadata": {},
   "outputs": [],
   "source": [
    "import gspread\n",
    "from oauth2client.service_account import ServiceAccountCredentials\n",
    "# from apiclient.discovery import build\n",
    "import datetime\n",
    "import pandas as pd\n",
    "\n",
    "from io import StringIO\n",
    "\n",
    "import requests\n",
    "\n",
    "import os"
   ]
  },
  {
   "cell_type": "code",
   "execution_count": null,
   "metadata": {},
   "outputs": [],
   "source": [
    "import datetime"
   ]
  },
  {
   "cell_type": "code",
   "execution_count": null,
   "metadata": {},
   "outputs": [],
   "source": [
    "datetime.datetime.now()"
   ]
  },
  {
   "cell_type": "code",
   "execution_count": null,
   "metadata": {},
   "outputs": [],
   "source": [
    "feedsURL = 'https://spreadsheets.google.com/feeds'\n",
    "driveURL = 'https://www.googleapis.com/auth/drive'\n",
    "scope = [feedsURL, driveURL]\n",
    "\n",
    "path = '/Users/Charley/Downloads/google-drive-api'\n",
    "filename = 'gspread-329ef1b5ac67.json'\n",
    "filepath = os.path.join(path, filename)\n",
    "\n",
    "credentials = ServiceAccountCredentials.from_json_keyfile_name(\n",
    "    filepath, scope)\n",
    "gc = gspread.authorize(credentials)"
   ]
  },
  {
   "cell_type": "markdown",
   "metadata": {},
   "source": [
    "### Writing first line"
   ]
  },
  {
   "cell_type": "code",
   "execution_count": null,
   "metadata": {},
   "outputs": [],
   "source": [
    "gc.open('')"
   ]
  },
  {
   "cell_type": "code",
   "execution_count": null,
   "metadata": {},
   "outputs": [],
   "source": [
    "rownames = ['datetime', 'outside_temperature', 'inside_temperature', 'outside_humidity', 'inside_humidity']"
   ]
  },
  {
   "cell_type": "code",
   "execution_count": null,
   "metadata": {},
   "outputs": [],
   "source": [
    "for idx, rowname in enumerate(rownames):\n",
    "    cell_list[idx].value = rowname\n",
    "    \n",
    "sh.update_cells(cell_list)\n",
    "    "
   ]
  },
  {
   "cell_type": "markdown",
   "metadata": {},
   "source": [
    "add_row\n",
    "\n",
    "todo: add logic that adds new rows if there aren't enough using `sh.row_count`"
   ]
  },
  {
   "cell_type": "code",
   "execution_count": null,
   "metadata": {},
   "outputs": [],
   "source": [
    "row = 2\n",
    "\n",
    "cell_list = sh.range('A{0}:E{0}'.format(str(row)))"
   ]
  },
  {
   "cell_type": "code",
   "execution_count": null,
   "metadata": {},
   "outputs": [],
   "source": [
    "datetime.datetime.now().strftime('%Y/%m/%d %H:%M')"
   ]
  },
  {
   "cell_type": "code",
   "execution_count": null,
   "metadata": {},
   "outputs": [],
   "source": [
    "sh.append_row([1,2,3,4,5])"
   ]
  },
  {
   "cell_type": "code",
   "execution_count": null,
   "metadata": {},
   "outputs": [],
   "source": [
    "for i in range(1, sh.row_count-10):\n",
    "    new_data_row = i"
   ]
  },
  {
   "cell_type": "code",
   "execution_count": null,
   "metadata": {},
   "outputs": [],
   "source": [
    "def add_row(sh, values):\n",
    "    \n",
    "    for i in range(1, sh.row_count-10):\n",
    "        new_data_row = i\n",
    "        break\n",
    "    \n",
    "    cell_list = sh.range('A{0}:E{0}'.format(str(new_data_row)))\n",
    "    \n",
    "    for idx, value in enumerate(values):\n",
    "        cell_list[idx].value = value\n",
    "        \n",
    "    sh.update_cells(cell_list)"
   ]
  },
  {
   "cell_type": "code",
   "execution_count": null,
   "metadata": {},
   "outputs": [],
   "source": []
  },
  {
   "cell_type": "markdown",
   "metadata": {},
   "source": [
    "### add to plotly"
   ]
  },
  {
   "cell_type": "code",
   "execution_count": null,
   "metadata": {},
   "outputs": [],
   "source": [
    "import requests\n",
    "import json\n",
    "import numpy as np\n",
    "import os\n",
    "import datetime\n",
    "\n",
    "import adafruit_dht\n",
    "from board import D4\n",
    "dht_device = adafruit_dht.DHT22(D4)\n",
    "\n",
    "import gspread\n",
    "from oauth2client.service_account import ServiceAccountCredentials"
   ]
  },
  {
   "cell_type": "code",
   "execution_count": null,
   "metadata": {},
   "outputs": [],
   "source": [
    "with open('last_temperature.txt', 'w+') as f:\n",
    "    f.write('85')"
   ]
  },
  {
   "cell_type": "code",
   "execution_count": null,
   "metadata": {},
   "outputs": [],
   "source": [
    "with open('last_temperature.txt', )"
   ]
  },
  {
   "cell_type": "markdown",
   "metadata": {},
   "source": [
    "### 20211019 Testing"
   ]
  },
  {
   "cell_type": "code",
   "execution_count": 2,
   "metadata": {},
   "outputs": [],
   "source": [
    "from oauth2client.service_account import ServiceAccountCredentials\n",
    "# from apiclient.discovery import build\n",
    "import datetime\n",
    "import pandas as pd\n",
    "\n",
    "import gspread\n",
    "\n",
    "from io import StringIO\n",
    "\n",
    "import requests\n",
    "\n",
    "import os"
   ]
  },
  {
   "cell_type": "code",
   "execution_count": 3,
   "metadata": {},
   "outputs": [],
   "source": [
    "feedsURL = 'https://spreadsheets.google.com/feeds'\n",
    "driveURL = 'https://www.googleapis.com/auth/drive'\n",
    "scope = [feedsURL, driveURL]"
   ]
  },
  {
   "cell_type": "code",
   "execution_count": 4,
   "metadata": {},
   "outputs": [],
   "source": [
    "filepath = '/Users/Charley/Downloads/google-drive-api/gspread-329ef1b5ac67.json'\n",
    "\n",
    "credentials = ServiceAccountCredentials.from_json_keyfile_name(\n",
    "    filepath, scope)\n",
    "gc = gspread.authorize(credentials)\n",
    "\n",
    "\n",
    "\n",
    "wb = gc.open('apt_temp')"
   ]
  },
  {
   "cell_type": "code",
   "execution_count": 5,
   "metadata": {},
   "outputs": [],
   "source": [
    "sh = wb.sheet1"
   ]
  },
  {
   "cell_type": "code",
   "execution_count": 7,
   "metadata": {},
   "outputs": [],
   "source": [
    "current_datetime = datetime.datetime.now().strftime('%Y/%m/%d %H:%M')"
   ]
  },
  {
   "cell_type": "code",
   "execution_count": 8,
   "metadata": {},
   "outputs": [
    {
     "data": {
      "text/plain": [
       "{'spreadsheetId': '1JAqRVtwHzh7bqxkBkAlUgZSGlg0tPaYwUM9cBjQFxw0',\n",
       " 'tableRange': 'Sheet1!A1:G9643',\n",
       " 'updates': {'spreadsheetId': '1JAqRVtwHzh7bqxkBkAlUgZSGlg0tPaYwUM9cBjQFxw0',\n",
       "  'updatedRange': 'Sheet1!A9644:E9644',\n",
       "  'updatedRows': 1,\n",
       "  'updatedColumns': 5,\n",
       "  'updatedCells': 5}}"
      ]
     },
     "execution_count": 8,
     "metadata": {},
     "output_type": "execute_result"
    }
   ],
   "source": [
    "# sh.append_row([\n",
    "#     current_datetime, current_temp_f, internals['temperature'],\n",
    "#     current_humidity, internals['humidity']\n",
    "# ])\n",
    "\n",
    "sh.append_row([\n",
    "    current_datetime, 12, 12, 12, 12\n",
    "])"
   ]
  },
  {
   "cell_type": "code",
   "execution_count": null,
   "metadata": {},
   "outputs": [],
   "source": []
  }
 ],
 "metadata": {
  "kernelspec": {
   "display_name": "base",
   "language": "python",
   "name": "base"
  },
  "language_info": {
   "codemirror_mode": {
    "name": "ipython",
    "version": 3
   },
   "file_extension": ".py",
   "mimetype": "text/x-python",
   "name": "python",
   "nbconvert_exporter": "python",
   "pygments_lexer": "ipython3",
   "version": "3.7.4"
  }
 },
 "nbformat": 4,
 "nbformat_minor": 2
}
