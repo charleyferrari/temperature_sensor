{
 "cells": [
  {
   "cell_type": "markdown",
   "metadata": {},
   "source": [
    "### Using weather API\n",
    "\n",
    "note: temp in kelvin\n"
   ]
  },
  {
   "cell_type": "code",
   "execution_count": 1,
   "metadata": {},
   "outputs": [],
   "source": [
    "import requests, json \n",
    "import numpy as np"
   ]
  },
  {
   "cell_type": "code",
   "execution_count": 2,
   "metadata": {},
   "outputs": [],
   "source": [
    "api_key = '2a3cbd9034962722e522419a7305997c'"
   ]
  },
  {
   "cell_type": "code",
   "execution_count": 8,
   "metadata": {},
   "outputs": [],
   "source": [
    "base_url = \"http://api.openweathermap.org/data/2.5/weather?\"\n",
    "city = 'New York City'\n",
    "complete_url = base_url + \"appid=\" + api_key + \"&q=\" + city "
   ]
  },
  {
   "cell_type": "code",
   "execution_count": 9,
   "metadata": {},
   "outputs": [
    {
     "data": {
      "text/plain": [
       "'http://api.openweathermap.org/data/2.5/weather?appid=2a3cbd9034962722e522419a7305997c&q=New York City'"
      ]
     },
     "execution_count": 9,
     "metadata": {},
     "output_type": "execute_result"
    }
   ],
   "source": [
    "complete_url"
   ]
  },
  {
   "cell_type": "code",
   "execution_count": 29,
   "metadata": {},
   "outputs": [],
   "source": [
    "resp = requests.get(complete_url)"
   ]
  },
  {
   "cell_type": "code",
   "execution_count": 30,
   "metadata": {},
   "outputs": [],
   "source": [
    "current_temp_k = resp.json()['main']['temp']\n",
    "current_temp_f = np.round((current_temp_k - 273.15) * (9/5) + 32, 2)\n",
    "current_humidity = resp.json()['main']['humidity']"
   ]
  },
  {
   "cell_type": "markdown",
   "metadata": {},
   "source": [
    "### Reading Temp from Sensor"
   ]
  },
  {
   "cell_type": "code",
   "execution_count": 20,
   "metadata": {},
   "outputs": [
    {
     "ename": "ModuleNotFoundError",
     "evalue": "No module named 'adafruit_dht'",
     "output_type": "error",
     "traceback": [
      "\u001b[0;31m---------------------------------------------------------------------------\u001b[0m",
      "\u001b[0;31mModuleNotFoundError\u001b[0m                       Traceback (most recent call last)",
      "\u001b[0;32m<ipython-input-20-4aaf1a884437>\u001b[0m in \u001b[0;36m<module>\u001b[0;34m\u001b[0m\n\u001b[0;32m----> 1\u001b[0;31m \u001b[0;32mimport\u001b[0m \u001b[0madafruit_dht\u001b[0m\u001b[0;34m\u001b[0m\u001b[0;34m\u001b[0m\u001b[0m\n\u001b[0m\u001b[1;32m      2\u001b[0m \u001b[0;32mfrom\u001b[0m \u001b[0mboard\u001b[0m \u001b[0;32mimport\u001b[0m \u001b[0mD4\u001b[0m\u001b[0;34m\u001b[0m\u001b[0;34m\u001b[0m\u001b[0m\n",
      "\u001b[0;31mModuleNotFoundError\u001b[0m: No module named 'adafruit_dht'"
     ]
    }
   ],
   "source": [
    "import adafruit_dht\n",
    "from board import D4\n",
    "dht_device = adafruit_dht.DHT22(D4)\n",
    "\n",
    "def get_temp_hum(dht_device):\n",
    "    count = 0\n",
    "    while True:\n",
    "        try:\n",
    "            return {\n",
    "                'temperature': dht_device.temperature,\n",
    "                'humidity': dht_device.humidity\n",
    "            }\n",
    "        except:\n",
    "            count += 1\n",
    "            if count == 1000:\n",
    "                return {\n",
    "                    'temperature': 0,\n",
    "                    'humidity': 0\n",
    "                }\n",
    "            pass"
   ]
  },
  {
   "cell_type": "markdown",
   "metadata": {},
   "source": [
    "### Using gspread"
   ]
  },
  {
   "cell_type": "code",
   "execution_count": 2,
   "metadata": {},
   "outputs": [],
   "source": [
    "import gspread\n",
    "from oauth2client.service_account import ServiceAccountCredentials\n",
    "# from apiclient.discovery import build\n",
    "import datetime\n",
    "import pandas as pd\n",
    "\n",
    "from io import StringIO\n",
    "\n",
    "import requests\n",
    "\n",
    "import os"
   ]
  },
  {
   "cell_type": "code",
   "execution_count": 34,
   "metadata": {},
   "outputs": [],
   "source": [
    "import datetime"
   ]
  },
  {
   "cell_type": "code",
   "execution_count": 35,
   "metadata": {},
   "outputs": [
    {
     "data": {
      "text/plain": [
       "datetime.datetime(2020, 1, 25, 14, 50, 5, 521220)"
      ]
     },
     "execution_count": 35,
     "metadata": {},
     "output_type": "execute_result"
    }
   ],
   "source": [
    "datetime.datetime.now()"
   ]
  },
  {
   "cell_type": "code",
   "execution_count": 4,
   "metadata": {},
   "outputs": [],
   "source": [
    "feedsURL = 'https://spreadsheets.google.com/feeds'\n",
    "driveURL = 'https://www.googleapis.com/auth/drive'\n",
    "scope = [feedsURL, driveURL]\n",
    "\n",
    "path = '/Users/Charley/Downloads/google-drive-api'\n",
    "filename = 'gspread-329ef1b5ac67.json'\n",
    "filepath = os.path.join(path, filename)\n",
    "\n",
    "credentials = ServiceAccountCredentials.from_json_keyfile_name(\n",
    "    filepath, scope)\n",
    "gc = gspread.authorize(credentials)"
   ]
  },
  {
   "cell_type": "markdown",
   "metadata": {},
   "source": [
    "### Writing first line"
   ]
  },
  {
   "cell_type": "code",
   "execution_count": 12,
   "metadata": {},
   "outputs": [
    {
     "data": {
      "text/plain": [
       "['__class__',\n",
       " '__delattr__',\n",
       " '__dict__',\n",
       " '__dir__',\n",
       " '__doc__',\n",
       " '__eq__',\n",
       " '__format__',\n",
       " '__ge__',\n",
       " '__getattribute__',\n",
       " '__gt__',\n",
       " '__hash__',\n",
       " '__init__',\n",
       " '__init_subclass__',\n",
       " '__le__',\n",
       " '__lt__',\n",
       " '__module__',\n",
       " '__ne__',\n",
       " '__new__',\n",
       " '__reduce__',\n",
       " '__reduce_ex__',\n",
       " '__repr__',\n",
       " '__setattr__',\n",
       " '__sizeof__',\n",
       " '__str__',\n",
       " '__subclasshook__',\n",
       " '__weakref__',\n",
       " 'auth',\n",
       " 'copy',\n",
       " 'create',\n",
       " 'del_spreadsheet',\n",
       " 'import_csv',\n",
       " 'insert_permission',\n",
       " 'list_permissions',\n",
       " 'list_spreadsheet_files',\n",
       " 'login',\n",
       " 'open',\n",
       " 'open_by_key',\n",
       " 'open_by_url',\n",
       " 'openall',\n",
       " 'remove_permission',\n",
       " 'request',\n",
       " 'session']"
      ]
     },
     "execution_count": 12,
     "metadata": {},
     "output_type": "execute_result"
    }
   ],
   "source": [
    "dir(gc)"
   ]
  },
  {
   "cell_type": "code",
   "execution_count": 15,
   "metadata": {},
   "outputs": [],
   "source": [
    "filename = 'apt_temp'\n",
    "wb = gc.open(filename)\n",
    "# wb.share('charley.ferrari@gmail.com', perm_type='user', role='writer')\n",
    "sh = wb.sheet1\n",
    "\n",
    "# cell_list = sh.range('A1:E1')\n",
    "\n",
    "# cell_range = '{}{}:{}{}'.format(uppercol, upperrow, lowercol, lowerrow)\n",
    "#     cell_list = sh.range(cell_range"
   ]
  },
  {
   "cell_type": "code",
   "execution_count": 42,
   "metadata": {},
   "outputs": [],
   "source": [
    "rownames = ['datetime', 'outside_temperature', 'inside_temperature', 'outside_humidity', 'inside_humidity']"
   ]
  },
  {
   "cell_type": "code",
   "execution_count": 44,
   "metadata": {},
   "outputs": [
    {
     "data": {
      "text/plain": [
       "{'spreadsheetId': '1JAqRVtwHzh7bqxkBkAlUgZSGlg0tPaYwUM9cBjQFxw0',\n",
       " 'updatedRange': 'Sheet1!A1:E1',\n",
       " 'updatedRows': 1,\n",
       " 'updatedColumns': 5,\n",
       " 'updatedCells': 5}"
      ]
     },
     "execution_count": 44,
     "metadata": {},
     "output_type": "execute_result"
    }
   ],
   "source": [
    "for idx, rowname in enumerate(rownames):\n",
    "    cell_list[idx].value = rowname\n",
    "    \n",
    "sh.update_cells(cell_list)\n",
    "    "
   ]
  },
  {
   "cell_type": "markdown",
   "metadata": {},
   "source": [
    "add_row\n",
    "\n",
    "todo: add logic that adds new rows if there aren't enough using `sh.row_count`"
   ]
  },
  {
   "cell_type": "code",
   "execution_count": null,
   "metadata": {},
   "outputs": [],
   "source": []
  },
  {
   "cell_type": "code",
   "execution_count": 16,
   "metadata": {},
   "outputs": [
    {
     "data": {
      "text/plain": [
       "2000"
      ]
     },
     "execution_count": 16,
     "metadata": {},
     "output_type": "execute_result"
    }
   ],
   "source": [
    "sh.row_count"
   ]
  },
  {
   "cell_type": "code",
   "execution_count": 65,
   "metadata": {},
   "outputs": [],
   "source": [
    "def add_row(sh, values):\n",
    "    \n",
    "    for i in range(1, sh.row_count-10):\n",
    "        new_data_row = i\n",
    "        break\n",
    "    \n",
    "    cell_list = sh.range('A{0}:E{0}'.format(str(new_data_row)))\n",
    "    \n",
    "    for idx, value in enumerate(values):\n",
    "        cell_list[idx].value = value\n",
    "        \n",
    "    sh.update_cells(cell_list)"
   ]
  },
  {
   "cell_type": "code",
   "execution_count": null,
   "metadata": {},
   "outputs": [],
   "source": []
  },
  {
   "cell_type": "code",
   "execution_count": null,
   "metadata": {},
   "outputs": [],
   "source": []
  }
 ],
 "metadata": {
  "kernelspec": {
   "display_name": "conda-base",
   "language": "python",
   "name": "conda-base"
  },
  "language_info": {
   "codemirror_mode": {
    "name": "ipython",
    "version": 3
   },
   "file_extension": ".py",
   "mimetype": "text/x-python",
   "name": "python",
   "nbconvert_exporter": "python",
   "pygments_lexer": "ipython3",
   "version": "3.7.1"
  }
 },
 "nbformat": 4,
 "nbformat_minor": 2
}
